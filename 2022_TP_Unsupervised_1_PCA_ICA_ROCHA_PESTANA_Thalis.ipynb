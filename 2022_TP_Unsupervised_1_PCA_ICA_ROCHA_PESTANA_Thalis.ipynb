{
  "cells": [
    {
      "cell_type": "markdown",
      "metadata": {
        "id": "oQdPnbk6EeCs"
      },
      "source": [
        "# Practical Session - Unsupervised Learning"
      ]
    },
    {
      "cell_type": "markdown",
      "metadata": {
        "id": "dqlB0cJvEeCu"
      },
      "source": [
        "This Practical session is about unsupervised learning, and more specifically about dimensionality reduction using the PCA and ICA algorithms. You will first work on toy examples, and then apply the methods on a real face dataset.\n",
        "\n",
        "Please answer the questions and complete the code where you see (`XXXXXXXXXX`)."
      ]
    },
    {
      "cell_type": "markdown",
      "metadata": {
        "id": "nBkBY3QIEeCv"
      },
      "source": [
        "First let's load the functions we will use"
      ]
    },
    {
      "cell_type": "code",
      "source": [
        "from google.colab import drive\n",
        "drive.mount('/content/drive')"
      ],
      "metadata": {
        "colab": {
          "base_uri": "https://localhost:8080/"
        },
        "id": "3vGX7_8fh0Le",
        "outputId": "6ee0cb62-a418-42f1-ad4c-ed9969841feb"
      },
      "execution_count": null,
      "outputs": [
        {
          "output_type": "stream",
          "name": "stdout",
          "text": [
            "Mounted at /content/drive\n"
          ]
        }
      ]
    },
    {
      "cell_type": "code",
      "execution_count": null,
      "metadata": {
        "id": "7Ay0njaQEeCw"
      },
      "outputs": [],
      "source": [
        "import numpy as np\n",
        "import numpy.matlib\n",
        "import matplotlib.pyplot as plt\n",
        "plt.close('all')\n",
        "\n",
        "from sklearn.decomposition import PCA\n",
        "from sklearn.decomposition import KernelPCA\n",
        "from sklearn.decomposition import FastICA\n",
        "from sklearn.cluster import KMeans\n",
        "\n",
        "from scipy import linalg as LA\n",
        "from scipy.stats import ortho_group\n",
        "from scipy.stats import gennorm\n",
        "\n",
        "\n",
        "import math\n",
        "\n",
        "from sklearn.model_selection import train_test_split\n",
        "from sklearn.neighbors import KNeighborsClassifier\n",
        "\n",
        "from scipy.io import loadmat"
      ]
    },
    {
      "cell_type": "markdown",
      "metadata": {
        "id": "phOIi1-ALMtJ"
      },
      "source": [
        "# I - Toy examples\n",
        "## I - 1) Dataset generation"
      ]
    },
    {
      "cell_type": "markdown",
      "metadata": {
        "id": "usdOLazgEeC3"
      },
      "source": [
        "As mentionned, you will first work on toy datasets. The next three functions are used to generate the data and plot the results."
      ]
    },
    {
      "cell_type": "code",
      "execution_count": null,
      "metadata": {
        "id": "rmr-d5j3EeC3"
      },
      "outputs": [],
      "source": [
        "def generate_scenario(scenario=3, n_samples0 = 100, n_samples1 = 30):\n",
        "\n",
        "    y = np.concatenate((np.zeros([n_samples0,1]) , np.ones([n_samples1,1])) , axis=0)\n",
        "\n",
        "    if scenario == 1:\n",
        "        # Separate Gaussian\n",
        "        mean0 = [2, 3]\n",
        "        mean1 = [12, 14]\n",
        "        cov0 = [[1, 1.5], [1.5 ,3]]\n",
        "        cov1 = 2 ** 2 * np.eye(2)\n",
        "        X0 = np.random.multivariate_normal(mean0, cov0, n_samples0, check_valid='raise')\n",
        "        X1 = np.random.multivariate_normal(mean1, cov1, n_samples1, check_valid='raise')\n",
        "\n",
        "    elif scenario == 2:\n",
        "        # Overlapping Gaussian\n",
        "        mean0 = [2, 3]\n",
        "        mean1 = [5, 7]\n",
        "        cov0 = [[1, 1.5], [1.5 ,3]]\n",
        "        cov1 = [[2, 3], [3 ,6]]\n",
        "        X0 = np.random.multivariate_normal(mean0, cov0, n_samples0, check_valid='raise')\n",
        "        X1 = np.random.multivariate_normal(mean1, cov1, n_samples1, check_valid='raise')\n",
        "\n",
        "\n",
        "    elif scenario == 3:\n",
        "        # Overlapping Gaussian\n",
        "        mean0 = [0, 0]\n",
        "        mean1 = [0, 0]\n",
        "        cov0 = [[50, 15], [15, 6]]#cov0 = [[50, 4], [4, 2]]\n",
        "        cov1 = [[2, 0], [0 ,50]]#cov1 = [[2, 0], [0 ,50]]\n",
        "        X0 = np.random.multivariate_normal(mean0, cov0, n_samples0, check_valid='raise')\n",
        "        X1 = np.random.multivariate_normal(mean1, cov1, n_samples1, check_valid='raise')\n",
        "\n",
        "\n",
        "    elif scenario == 4:\n",
        "        # Circles\n",
        "        # 1 circle\n",
        "        angle0=np.linspace(0, 2 * np.pi, n_samples0);\n",
        "        X0=np.vstack((8*np.cos(angle0) , 8*np.sin(angle0))).T\n",
        "\n",
        "        # 2 circle\n",
        "        angle1=np.linspace(0, 2 * np.pi, n_samples1);\n",
        "        X1=np.vstack((2*np.cos(angle1) , 2*np.sin(angle1))).T\n",
        "\n",
        "    return X0,X1,y\n",
        "\n",
        "def plotResults(X0=None,X1=None,y=None,U=None,Y=None,const=1,title=''):\n",
        "\n",
        "    X=np.concatenate((X0,X1),axis=0)\n",
        "\n",
        "    N0=np.sum(y==0)\n",
        "    N1=np.sum(y==1)\n",
        "\n",
        "    fig=plt.figure(figsize=(17, 6))\n",
        "\n",
        "    ax  = fig.add_subplot(1, 3, 1)\n",
        "    plt.scatter(X0[:,0],X0[:,1],c='r', label='Class 0')\n",
        "    plt.scatter(X1[:,0],X1[:,1],c='b', label='Class 1')\n",
        "    if U is not None:\n",
        "        average=X.mean(axis=0)\n",
        "        sd=LA.norm(X.std(axis=0))\n",
        "        u0=U[:,0]*const*sd;\n",
        "        u1=U[:,1]*const*sd;\n",
        "        plt.plot([average[0]-u0[0], average[0]+u0[0]],[average[1]-u0[1], average[1]+u0[1]], c='g',linewidth=4, label='C 1' )\n",
        "        plt.plot([average[0]-u1[0], average[0]+u1[0]],[average[1]-u1[1], average[1]+u1[1]], c='k',linewidth=4, label='C 2' )\n",
        "        plt.title('Original data and components')\n",
        "    else:\n",
        "        plt.title('Original data')\n",
        "    plt.legend()\n",
        "\n",
        "    ax  = fig.add_subplot(1, 3, 2)\n",
        "    plt.scatter(Y[np.where(y == 0)[0],0], np.zeros((N0,1)), c='r', s=3, marker='o', label='Class 0')\n",
        "    plt.scatter(Y[np.where(y == 1)[0],0], np.zeros((N1,1)), c='b', s=3, marker='x', label='Class 1')\n",
        "    ax.set_title(title + '\\n Scores on 1st component')\n",
        "\n",
        "    ax  = fig.add_subplot(1, 3, 3)\n",
        "    plt.scatter(Y[np.where(y == 0)[0],1], np.zeros((N0,1)), c='r', s=3, marker='o', label='Class 0')\n",
        "    plt.scatter(Y[np.where(y == 1)[0],1], np.zeros((N1,1)), c='b', s=3, marker='x', label='Class 1')\n",
        "    plt.legend()\n",
        "    plt.title('Scores on 2nd component')\n",
        "\n",
        "    plt.show()\n",
        "\n",
        "\n",
        "def frontiere(model, X, y, step=50):\n",
        "\n",
        "    labels = np.unique(y)\n",
        "\n",
        "    min_tot = np.min(X)\n",
        "    max_tot = np.max(X)\n",
        "    delta = (max_tot - min_tot) / step\n",
        "    xx, yy = np.meshgrid(np.arange(min_tot, max_tot, delta),\n",
        "                         np.arange(min_tot, max_tot, delta))\n",
        "    z = np.array( model.predict(np.c_[xx.ravel(), yy.ravel() ]) )\n",
        "    z = z.reshape(xx.shape)\n",
        "\n",
        "    plt.imshow(z, origin='lower', extent=[min_tot, max_tot, min_tot, max_tot],\n",
        "               interpolation=\"mitchell\", cmap='RdBu')\n",
        "\n",
        "    cbar = plt.colorbar(ticks=labels)\n",
        "    cbar.ax.set_yticklabels(labels)\n",
        "\n",
        "    plt.scatter(X[np.where(yKmeans == 0)[0],0],X[np.where(yKmeans == 0)[0],1],c='r', label='Predicted class 0')\n",
        "    plt.scatter(X[np.where(yKmeans == 1)[0],0],X[np.where(yKmeans == 1)[0],1],c='b', label='Predicted class 1')\n",
        "\n",
        "    plt.ylim([min_tot, max_tot])\n",
        "    plt.xlim([min_tot, max_tot])\n",
        ""
      ]
    },
    {
      "cell_type": "markdown",
      "metadata": {
        "id": "aNlIyjsHEeC7"
      },
      "source": [
        "Now,let's create the data we will use.\n",
        "Try the 4 different scenarios by simply varying the `scenarioIndex` value between 1 and 4.\n",
        "\n",
        "**Question** : what do each scenario corresponds to?"
      ]
    },
    {
      "cell_type": "markdown",
      "source": [
        "## Scenarios generation:"
      ],
      "metadata": {
        "id": "O9vgC5zga9-H"
      }
    },
    {
      "cell_type": "code",
      "execution_count": null,
      "metadata": {
        "colab": {
          "base_uri": "https://localhost:8080/",
          "height": 390
        },
        "id": "M6Rpg84vEeC9",
        "outputId": "97fde09d-c207-4842-ce7d-1bc58c461a11"
      },
      "outputs": [
        {
          "output_type": "display_data",
          "data": {
            "text/plain": [
              "<Figure size 432x432 with 1 Axes>"
            ],
            "image/png": "[encoded data removed]"
          },
          "metadata": {
            "needs_background": "light"
          }
        }
      ],
      "source": [
        "## Choose the scenarioIndex (value between 1 and 4)\n",
        "scenarioIndex = 1\n",
        "##\n",
        "\n",
        "X0_1,X1_1,y_1 = generate_scenario(scenario=scenarioIndex, n_samples0 = 350, n_samples1 = 350)\n",
        "X_1=np.concatenate((X0_1,X1_1),axis=0)\n",
        "\n",
        "plt.figure(figsize=(6, 6))\n",
        "plt.scatter(X0_1[:,0],X0_1[:,1],c='r', label='Class 0')\n",
        "plt.scatter(X1_1[:,0],X1_1[:,1],c='b', label='Class 1')\n",
        "plt.title('Original data')\n",
        "plt.legend()\n",
        "plt.show()"
      ]
    },
    {
      "cell_type": "code",
      "source": [
        "## Choose the scenarioIndex (value between 1 and 4)\n",
        "scenarioIndex = 2\n",
        "##\n",
        "\n",
        "X0_2,X1_2,y_2 = generate_scenario(scenario=scenarioIndex, n_samples0 = 350, n_samples1 = 350)\n",
        "X_2=np.concatenate((X0_2,X1_2),axis=0)\n",
        "\n",
        "plt.figure(figsize=(6, 6))\n",
        "plt.scatter(X0_2[:,0],X0_2[:,1],c='r', label='Class 0')\n",
        "plt.scatter(X1_2[:,0],X1_2[:,1],c='b', label='Class 1')\n",
        "plt.title('Original data')\n",
        "plt.legend()\n",
        "plt.show()"
      ],
      "metadata": {
        "colab": {
          "base_uri": "https://localhost:8080/",
          "height": 390
        },
        "id": "Z-nwr1embNHa",
        "outputId": "b79db709-49c2-424a-a8bb-fd9b3d991fcc"
      },
      "execution_count": null,
      "outputs": [
        {
          "output_type": "display_data",
          "data": {
            "text/plain": [
              "<Figure size 432x432 with 1 Axes>"
            ],
            "image/png": "[encoded data removed]"
          },
          "metadata": {
            "needs_background": "light"
          }
        }
      ]
    },
    {
      "cell_type": "code",
      "source": [
        "## Choose the scenarioIndex (value between 1 and 4)\n",
        "scenarioIndex = 3\n",
        "##\n",
        "\n",
        "X0_3,X1_3,y_3 = generate_scenario(scenario=scenarioIndex, n_samples0 = 350, n_samples1 = 350)\n",
        "X_3=np.concatenate((X0_3,X1_3),axis=0)\n",
        "\n",
        "plt.figure(figsize=(6, 6))\n",
        "plt.scatter(X0_3[:,0],X0_3[:,1],c='r', label='Class 0')\n",
        "plt.scatter(X1_3[:,0],X1_3[:,1],c='b', label='Class 1')\n",
        "plt.title('Original data')\n",
        "plt.legend()\n",
        "plt.show()"
      ],
      "metadata": {
        "colab": {
          "base_uri": "https://localhost:8080/",
          "height": 390
        },
        "id": "_vvKTLCZbgd6",
        "outputId": "45ef8913-d2b2-497b-a973-60e68e1e718e"
      },
      "execution_count": null,
      "outputs": [
        {
          "output_type": "display_data",
          "data": {
            "text/plain": [
              "<Figure size 432x432 with 1 Axes>"
            ],
            "image/png": "[encoded data removed]"
          },
          "metadata": {
            "needs_background": "light"
          }
        }
      ]
    },
    {
      "cell_type": "code",
      "source": [
        "## Choose the scenarioIndex (value between 1 and 4)\n",
        "scenarioIndex = 4\n",
        "##\n",
        "\n",
        "X0_4,X1_4,y_4 = generate_scenario(scenario=scenarioIndex, n_samples0 = 350, n_samples1 = 350)\n",
        "X_4=np.concatenate((X0_4,X1_4),axis=0)\n",
        "\n",
        "plt.figure(figsize=(6, 6))\n",
        "plt.scatter(X0_4[:,0],X0_4[:,1],c='r', label='Class 0')\n",
        "plt.scatter(X1_4[:,0],X1_4[:,1],c='b', label='Class 1')\n",
        "plt.title('Original data')\n",
        "plt.legend()\n",
        "plt.show()"
      ],
      "metadata": {
        "colab": {
          "base_uri": "https://localhost:8080/",
          "height": 390
        },
        "id": "LLKPClvQboYm",
        "outputId": "d2a631a7-8e89-4d9a-dc01-f335896786d6"
      },
      "execution_count": null,
      "outputs": [
        {
          "output_type": "display_data",
          "data": {
            "text/plain": [
              "<Figure size 432x432 with 1 Axes>"
            ],
            "image/png": "[encoded data removed]"
          },
          "metadata": {
            "needs_background": "light"
          }
        }
      ]
    },
    {
      "cell_type": "markdown",
      "metadata": {
        "id": "b-MofRCYLMtM"
      },
      "source": [
        "## I - 2) PCA\n",
        "\n",
        "**BASIC PCA**"
      ]
    },
    {
      "cell_type": "markdown",
      "metadata": {
        "id": "iavcvJKmEeDC"
      },
      "source": [
        "It's time to start using the methods seen in class. Let's start with PCA.\n",
        "\n",
        "\n",
        "As you can see, we have generated two populations (class 0 and class 1). We concatenate them as a single matrix *X* which will be the input for all methods. In this way, the methods will be unaware of the class of the observations (unsupervised) and we will test whether the methods are appropriate for the analysed scenario and if they are able to use less dimensions to correctly distinguish the two classes.\n",
        "\n",
        "\n",
        "**Question:**\n",
        "1. Use PCA with the different 4 scenarios and comment the results. When does PCA work well ? Why ? Expain."
      ]
    },
    {
      "cell_type": "markdown",
      "source": [
        "PCA part of the assumption that the data is generated by a linear combination of the original variables. If the data is linearly separable, PCA will be able to separate it into different clusters or classes. Additionally, PCA assumes that the noise in the data is normally distributed, which is often a reasonable assumption for many real-world datasets.\n",
        "\n",
        "It is possible to verify this principle looking to the first and fourth scenarios. In the first scenario the data is linear distributed without superposition of the samples. In this case, PCA can perfectly cluster the data. However, in the fourth case the data is not linearly distributed and the algorithm fails in the clustering task.\n",
        "\n",
        "In addition, PCA works better when the variables are highly correlated. It means that the variables are high linearly related with each other. In the second and third cases the data is low correlated and PCA does not performs well.\n"
      ],
      "metadata": {
        "id": "0-JQDjWXldrD"
      }
    },
    {
      "cell_type": "code",
      "execution_count": null,
      "metadata": {
        "colab": {
          "base_uri": "https://localhost:8080/",
          "height": 309
        },
        "id": "2xRZeINdEeDD",
        "outputId": "6df8ecf5-657f-4994-86ce-4e4d886c203f"
      },
      "outputs": [
        {
          "output_type": "stream",
          "name": "stdout",
          "text": [
            "The variance explained by the two first modes is respectively:  [0.96255269 0.03744731]\n"
          ]
        },
        {
          "output_type": "display_data",
          "data": {
            "text/plain": [
              "<Figure size 1224x432 with 3 Axes>"
            ],
            "image/png": "[encoded data removed]"
          },
          "metadata": {
            "needs_background": "light"
          }
        }
      ],
      "source": [
        "## PCA\n",
        "pca_1 = PCA(random_state=1) # by fixing the random_state we are sure that results are always the same\n",
        "Ypca_1=pca_1.fit_transform(X_1)\n",
        "U_1=pca_1.components_.T # we want PC on columns\n",
        "D_1 = (pca_1.singular_values_)**2/(X_1.shape[0]-1) # computation of the eigenvalues\n",
        "\n",
        "print('The variance explained by the two first modes is respectively: ', pca_1.explained_variance_ratio_)\n",
        "plotResults(X0_1,X1_1,y_1,U_1,Ypca_1,const=1,title='PCA')"
      ]
    },
    {
      "cell_type": "code",
      "source": [
        "## PCA\n",
        "pca_2 = PCA(random_state=1) # by fixing the random_state we are sure that results are always the same\n",
        "Ypca_2=pca_2.fit_transform(X_2)\n",
        "U_2=pca_2.components_.T # we want PC on columns\n",
        "D_2 = (pca_2.singular_values_)**2/(X_2.shape[0]-1) # computation of the eigenvalues\n",
        "\n",
        "print('The variance explained by the two first modes is respectively: ', pca_2.explained_variance_ratio_)\n",
        "plotResults(X0_2,X1_2,y_2,U_2,Ypca_2,const=1,title='PCA')"
      ],
      "metadata": {
        "colab": {
          "base_uri": "https://localhost:8080/",
          "height": 309
        },
        "id": "VN2jpRGBb7Os",
        "outputId": "ead3a7a5-6595-4145-a2e5-2fde3426474f"
      },
      "execution_count": null,
      "outputs": [
        {
          "output_type": "stream",
          "name": "stdout",
          "text": [
            "The variance explained by the two first modes is respectively:  [0.97066812 0.02933188]\n"
          ]
        },
        {
          "output_type": "display_data",
          "data": {
            "text/plain": [
              "<Figure size 1224x432 with 3 Axes>"
            ],
            "image/png": "[encoded data removed]"
          },
          "metadata": {
            "needs_background": "light"
          }
        }
      ]
    },
    {
      "cell_type": "code",
      "source": [
        "## PCA\n",
        "pca_3 = PCA(random_state=1) # by fixing the random_state we are sure that results are always the same\n",
        "Ypca_3=pca_3.fit_transform(X_3)\n",
        "U_3=pca_3.components_.T # we want PC on columns\n",
        "D_3 = (pca_3.singular_values_)**2/(X_3.shape[0]-1) # computation of the eigenvalues\n",
        "\n",
        "print('The variance explained by the two first modes is respectively: ', pca_3.explained_variance_ratio_)\n",
        "plotResults(X0_3,X1_3,y_3,U_3,Ypca_3,const=1,title='PCA')"
      ],
      "metadata": {
        "colab": {
          "base_uri": "https://localhost:8080/",
          "height": 306
        },
        "id": "u6D1jS8jcknP",
        "outputId": "d884ad06-2727-4d39-c8b5-3a147b512b80"
      },
      "execution_count": null,
      "outputs": [
        {
          "output_type": "stream",
          "name": "stdout",
          "text": [
            "The variance explained by the two first modes is respectively:  [0.64185994 0.35814006]\n"
          ]
        },
        {
          "output_type": "display_data",
          "data": {
            "text/plain": [
              "<Figure size 1224x432 with 3 Axes>"
            ],
            "image/png": "[encoded data removed]"
          },
          "metadata": {
            "needs_background": "light"
          }
        }
      ]
    },
    {
      "cell_type": "code",
      "source": [
        "## PCA\n",
        "pca_4 = PCA(random_state=1) # by fixing the random_state we are sure that results are always the same\n",
        "Ypca_4=pca_4.fit_transform(X_4)\n",
        "U_4=pca_4.components_.T # we want PC on columns\n",
        "D_4 = (pca_4.singular_values_)**2/(X_4.shape[0]-1) # computation of the eigenvalues\n",
        "\n",
        "print('The variance explained by the two first modes is respectively: ', pca_4.explained_variance_ratio_)\n",
        "plotResults(X0_4,X1_4,y_4,U_4,Ypca_4,const=1,title='PCA')"
      ],
      "metadata": {
        "colab": {
          "base_uri": "https://localhost:8080/",
          "height": 309
        },
        "id": "frF7K4z2c-p8",
        "outputId": "bdfec11d-3a96-43bb-acec-5c0388989e1a"
      },
      "execution_count": null,
      "outputs": [
        {
          "output_type": "stream",
          "name": "stdout",
          "text": [
            "The variance explained by the two first modes is respectively:  [0.50142558 0.49857442]\n"
          ]
        },
        {
          "output_type": "display_data",
          "data": {
            "text/plain": [
              "<Figure size 1224x432 with 3 Axes>"
            ],
            "image/png": "[encoded data removed]"
          },
          "metadata": {
            "needs_background": "light"
          }
        }
      ]
    },
    {
      "cell_type": "markdown",
      "metadata": {
        "id": "lwF92npaEeDL"
      },
      "source": [
        "**Question:**\n",
        "1. Instead than using the scikit-learn implementation, implement one on your own ! Complete the code where you see **XXXXXXXXXXXXXX**"
      ]
    },
    {
      "cell_type": "code",
      "execution_count": null,
      "metadata": {
        "id": "km2F1TyqEeDM"
      },
      "outputs": [],
      "source": [
        "def pcaLecture(X):\n",
        "    '''\n",
        "    Inputs:\n",
        "            X: is a [Nxd] matrix. Every row is an observation and every\n",
        "              column consists of features.\n",
        "    Outputs:\n",
        "            Y: is a [Nxd] matrix representing the scores, namely the\n",
        "            coordinates of X onto the new basis given by the eigenvactors U\n",
        "            of the covariance matrix of X. Columns are the principal components.\n",
        "\n",
        "            U: columns are Eigenvectors (sorted from the greatest to the lowest eigenvalue)\n",
        "\n",
        "            D: Eigenvalues (sorted from the greatest to the lowest eigenvalue)\n",
        "\n",
        "            var_explained: percentage of the original variability explained\n",
        "            by each principal component.\n",
        "    '''\n",
        "\n",
        "    N = X.shape[0]\n",
        "    Xc = X - np.mean(X, axis=0)\n",
        "\n",
        "    D2, Uh = LA.svd(Xc)[1:3]\n",
        "\n",
        "    U = Uh.T\n",
        "    Y = X @ U\n",
        "    D = D2**2/(N-1)\n",
        "\n",
        "    tot = np.sum(D)\n",
        "    var_explained = []\n",
        "\n",
        "    for d in D:\n",
        "      var_explained.append(d/np.sum(D))\n",
        "\n",
        "    return Y,U,D,var_explained\n"
      ]
    },
    {
      "cell_type": "markdown",
      "metadata": {
        "id": "BYrpvPUiEeDQ"
      },
      "source": [
        "**Question:**\n",
        "1. Test your own implementation and check whether the results are the same of the scikit-learn implementation"
      ]
    },
    {
      "cell_type": "code",
      "execution_count": null,
      "metadata": {
        "colab": {
          "base_uri": "https://localhost:8080/",
          "height": 272
        },
        "id": "MlAFSB1uEeDQ",
        "outputId": "daabeed1-34a8-44ec-d6a4-74c9762ca288"
      },
      "outputs": [
        {
          "output_type": "display_data",
          "data": {
            "text/plain": [
              "<Figure size 1224x432 with 3 Axes>"
            ],
            "image/png": "[encoded data removed]"
          },
          "metadata": {
            "needs_background": "light"
          }
        }
      ],
      "source": [
        "YpcaLec,UpcaLec,DpcaLec,var_explainedPcaLec=pcaLecture(X_1)\n",
        "plotResults(X0_1,X1_1,y_1,UpcaLec,YpcaLec,const=1,title='PCA Lecture')\n"
      ]
    },
    {
      "cell_type": "markdown",
      "metadata": {
        "id": "duBef8WYEeDV"
      },
      "source": [
        "**KERNEL PCA**\n",
        "\n",
        "Let's now use Kernel-PCA with the rbf kernel (you can also test other kernels if you want).\n",
        "\n",
        "**Question:**\n",
        "1. What is the interest of kernel PCA over the basic PCA?\n",
        "2. Use Kernel-PCA with the different 4 scenarios and comment the results. When does K-PCA work well ? Why ?"
      ]
    },
    {
      "cell_type": "markdown",
      "source": [
        "1. Kernel PCA is applied when the data is non-linearly separable, allowing the detection of non-linear patterns in the data and dimensionality reduction in non-linear spaces.\n",
        "\n",
        "  Overall, the interest of kernel PCA over basic PCA lies in its ability to detect non-linear patterns in the data and reduce the dimensionality of the data while preserving the non-linear relationships between data points.\n",
        "\n",
        "2. K-PCA works well when the data has a nonlinear structure. On the other hand it performs badly when the data is highly unbalanced, e.g. one class having significantly more samples than the other. In this case,  K-PCA may not be able to effectively capture the non-linear relationships between the features. In addition, K-PCA is very sensitive to noise.\n"
      ],
      "metadata": {
        "id": "GwW7VItupzZW"
      }
    },
    {
      "cell_type": "code",
      "execution_count": null,
      "metadata": {
        "colab": {
          "base_uri": "https://localhost:8080/",
          "height": 235
        },
        "id": "UInYXsXrEeDW",
        "outputId": "36846424-8a8f-447d-97fe-12e31f3116dc"
      },
      "outputs": [
        {
          "output_type": "error",
          "ename": "AttributeError",
          "evalue": "ignored",
          "traceback": [
            "\u001b[0;31m---------------------------------------------------------------------------\u001b[0m",
            "\u001b[0;31mAttributeError\u001b[0m                            Traceback (most recent call last)",
            "\u001b[0;32m<ipython-input-14-3a0424bcd557>\u001b[0m in \u001b[0;36m<module>\u001b[0;34m\u001b[0m\n\u001b[1;32m      3\u001b[0m \u001b[0mKpca_1\u001b[0m \u001b[0;34m=\u001b[0m \u001b[0mKernelPCA\u001b[0m\u001b[0;34m(\u001b[0m\u001b[0mkernel\u001b[0m\u001b[0;34m=\u001b[0m\u001b[0;34m'linear'\u001b[0m\u001b[0;34m,\u001b[0m \u001b[0mgamma\u001b[0m\u001b[0;34m=\u001b[0m\u001b[0mgamma\u001b[0m\u001b[0;34m,\u001b[0m \u001b[0mrandom_state\u001b[0m\u001b[0;34m=\u001b[0m\u001b[0;36m1\u001b[0m\u001b[0;34m)\u001b[0m\u001b[0;34m\u001b[0m\u001b[0;34m\u001b[0m\u001b[0m\n\u001b[1;32m      4\u001b[0m \u001b[0mYKpca_1\u001b[0m\u001b[0;34m=\u001b[0m\u001b[0mKpca_1\u001b[0m\u001b[0;34m.\u001b[0m\u001b[0mfit_transform\u001b[0m\u001b[0;34m(\u001b[0m\u001b[0mX_1\u001b[0m\u001b[0;34m)\u001b[0m\u001b[0;34m\u001b[0m\u001b[0;34m\u001b[0m\u001b[0m\n\u001b[0;32m----> 5\u001b[0;31m \u001b[0mDKpca_1\u001b[0m\u001b[0;34m=\u001b[0m\u001b[0mKpca_1\u001b[0m\u001b[0;34m.\u001b[0m\u001b[0mlambdas_\u001b[0m\u001b[0;34m\u001b[0m\u001b[0;34m\u001b[0m\u001b[0m\n\u001b[0m\u001b[1;32m      6\u001b[0m \u001b[0mAKpca_1\u001b[0m\u001b[0;34m=\u001b[0m\u001b[0mKpca_1\u001b[0m\u001b[0;34m.\u001b[0m\u001b[0malphas_\u001b[0m\u001b[0;34m\u001b[0m\u001b[0;34m\u001b[0m\u001b[0m\n\u001b[1;32m      7\u001b[0m \u001b[0;34m\u001b[0m\u001b[0m\n",
            "\u001b[0;31mAttributeError\u001b[0m: 'KernelPCA' object has no attribute 'lambdas_'"
          ]
        }
      ],
      "source": [
        "# Kernel-PCA\n",
        "gamma=2\n",
        "Kpca_1 = KernelPCA(kernel='linear', gamma=gamma, random_state=1)\n",
        "YKpca_1=Kpca_1.fit_transform(X_1)\n",
        "DKpca_1=Kpca_1.lambdas_\n",
        "AKpca_1=Kpca_1.alphas_\n",
        "\n",
        "plotResults(X0=X0_1,X1=X1_1,y=y_1,Y=YKpca_1,const=1,title='KPCA')"
      ]
    },
    {
      "cell_type": "code",
      "source": [
        "# Kernel-PCA\n",
        "gamma=2\n",
        "Kpca_2 = KernelPCA(kernel='cosine', gamma=gamma, random_state=1)\n",
        "YKpca_2=Kpca_2.fit_transform(X_2)\n",
        "DKpca_2=Kpca_2.lambdas_\n",
        "AKpca_2=Kpca_2.alphas_\n",
        "\n",
        "plotResults(X0=X0_2,X1=X1_2,y=y_2,Y=YKpca_2,const=1,title='KPCA')"
      ],
      "metadata": {
        "id": "Yd3d4Xpjd8FV"
      },
      "execution_count": null,
      "outputs": []
    },
    {
      "cell_type": "code",
      "source": [
        "# Kernel-PCA\n",
        "gamma=2\n",
        "Kpca_3 = KernelPCA(kernel='poly', gamma=gamma, random_state=1)\n",
        "YKpca_3=Kpca_3.fit_transform(X_3)\n",
        "DKpca_3=Kpca_3.lambdas_\n",
        "AKpca_3=Kpca_3.alphas_\n",
        "\n",
        "plotResults(X0=X0_3,X1=X1_3,y=y_3,Y=YKpca_3,const=1,title='KPCA')"
      ],
      "metadata": {
        "id": "9pExp-v5eCMg"
      },
      "execution_count": null,
      "outputs": []
    },
    {
      "cell_type": "code",
      "source": [
        "# Kernel-PCA\n",
        "gamma=1\n",
        "Kpca_4 = KernelPCA(kernel='poly', gamma=gamma, random_state=1)\n",
        "YKpca_4=Kpca_4.fit_transform(X_4)\n",
        "DKpca_4=Kpca_4.lambdas_\n",
        "AKpca_4=Kpca_4.alphas_\n",
        "\n",
        "plotResults(X0=X0_4,X1=X1_4,y=y_4,Y=YKpca_4,const=1,title='KPCA')"
      ],
      "metadata": {
        "id": "RPBaxIH2eGbL"
      },
      "execution_count": null,
      "outputs": []
    },
    {
      "cell_type": "markdown",
      "metadata": {
        "id": "uDFuV2pEEeDZ"
      },
      "source": [
        "**Question:**\n",
        "1. Instead than using the scikit-learn implementation, implement one on your own ! Complete the code where you see **XXXXXXXXXXXXXX**"
      ]
    },
    {
      "cell_type": "code",
      "execution_count": null,
      "metadata": {
        "id": "m3ulQzkkEeDZ"
      },
      "outputs": [],
      "source": [
        "def KpcaGaussianLecture(X,gamma):\n",
        "    '''\n",
        "    Inputs:\n",
        "            X: is a [Nxd] matrix. Every row is an observation and every\n",
        "            column is a feature.\n",
        "\n",
        "    Outputs:\n",
        "            Y: is a [Nxd] matrix representing the scores, namely the\n",
        "            coordinates of \\phi(X) onto the new basis given by the eigenvactors\n",
        "            of the covariance matrix of \\phi(X). Columns are the principal components.\n",
        "\n",
        "            An: columns are Eigenvectors normalised (sorted from the greatest\n",
        "            to the lowest eigenvalue)\n",
        "\n",
        "            D: Eigenvalues (sorted from the greatest to the lowest eigenvalue)\n",
        "\n",
        "            var_explained: percentage of the original variability explained\n",
        "            by each principal component.\n",
        "\n",
        "    '''\n",
        "\n",
        "    # kernel matrix using a rbf kernel\n",
        "    def kernel_matrix(X,gamma):\n",
        "      N=X.shape[0]\n",
        "      InnerX = np.dot(X,X.T)\n",
        "      temp1=np.sum(X**2,axis=1).reshape((N,1))\n",
        "      temp2=np.sum(X**2,axis=1).reshape((1,N))\n",
        "      Norm1 = np.repeat(temp1,N,axis=1)\n",
        "      Norm2 = np.repeat(temp2,N,axis=0)\n",
        "      Norm = Norm1+Norm2-2*InnerX;\n",
        "      Norm[Norm<1e-10]=0;\n",
        "      K=np.exp(-Norm/(2*gamma**2))\n",
        "      return K\n",
        "\n",
        "    N=X.shape[0]\n",
        "\n",
        "    K=kernel_matrix(X,gamma)\n",
        "\n",
        "    # center kernel matrix\n",
        "    oneN=np.ones((N,N))/N;\n",
        "    Kc= K - oneN @ K - K @ oneN + (oneN @ K) @ oneN\n",
        "\n",
        "    # eigenvalue analysis\n",
        "    D,A=LA.eigh(Kc)\n",
        "    idx = D.argsort()[::-1]  # reverse order to make 'descend'\n",
        "    D = np.real(D[idx])\n",
        "    D[D<0]=1e-18            # make negative eigenvalues positive (and almost 0)\n",
        "    A = np.real(A[:,idx])\n",
        "\n",
        "    # variance explained\n",
        "    tot=np.sum(D)\n",
        "    var_explained = D/tot # computation of explained variance\n",
        "\n",
        "    # Normalisation eigenvectors\n",
        "    # Norm of every eigenvector is 1, we want it to be 1/sqrt(N*eig)\n",
        "\n",
        "    An=np.copy(A)\n",
        "    for i in range(N):\n",
        "        An[:,i]=np.dot(A[:,i],(1/np.sqrt((N-1)*D[i])) )\n",
        "\n",
        "    Y=np.zeros((N,X.shape[1]))\n",
        "    for l in range (X.shape[1]):\n",
        "      for i in range(N):\n",
        "        Y[:,l]+=An[i,l]*Kc[:,i]\n",
        "\n",
        "    return Y,An,D,var_explained\n"
      ]
    },
    {
      "cell_type": "markdown",
      "metadata": {
        "id": "ZYg6TDvVEeDd"
      },
      "source": [
        "Test your own implementation"
      ]
    },
    {
      "cell_type": "code",
      "execution_count": null,
      "metadata": {
        "id": "JALc6EMeEeDe"
      },
      "outputs": [],
      "source": [
        "YKpcaLec_1, AnKpcaLec_1, DKpcaLec_1, var_explainedKpca_1 = KpcaGaussianLecture(X_1,gamma)\n",
        "plotResults(X0=X0_1,X1=X1_1,y=y_1,Y=YKpcaLec_1,const=1,title='KPCA Lecture')"
      ]
    },
    {
      "cell_type": "code",
      "source": [
        "YKpcaLec_2, AnKpcaLec_2, DKpcaLec_2, var_explainedKpca_2 = KpcaGaussianLecture(X_2,gamma)\n",
        "plotResults(X0=X0_2,X1=X1_2,y=y_2,Y=YKpcaLec_2,const=1,title='KPCA Lecture')"
      ],
      "metadata": {
        "id": "tPp7VLEEef-x"
      },
      "execution_count": null,
      "outputs": []
    },
    {
      "cell_type": "code",
      "source": [
        "YKpcaLec_3, AnKpcaLec_3, DKpcaLec_3, var_explainedKpca_3 = KpcaGaussianLecture(X_3,gamma)\n",
        "plotResults(X0=X0_3,X1=X1_3,y=y_3,Y=YKpcaLec_3,const=1,title='KPCA Lecture')"
      ],
      "metadata": {
        "id": "NjS_9R7yejmG"
      },
      "execution_count": null,
      "outputs": []
    },
    {
      "cell_type": "code",
      "source": [
        "YKpcaLec_4, AnKpcaLec_4, DKpcaLec_4, var_explainedKpca_4 = KpcaGaussianLecture(X_4,gamma)\n",
        "plotResults(X0=X0_4,X1=X1_4,y=y_4,Y=YKpcaLec_4,const=1,title='KPCA Lecture')"
      ],
      "metadata": {
        "id": "DfWNuSnEeoNc"
      },
      "execution_count": null,
      "outputs": []
    },
    {
      "cell_type": "markdown",
      "metadata": {
        "id": "Qgw-lR7CEeDh"
      },
      "source": [
        "## I - 3) ICA\n",
        "\n",
        "Now, we work on ICA, first by testing scickit-learn FastICA implementation, and then coding your own.\n",
        "\n",
        "**Question:**\n",
        "1. Use ICA with the different 4 scenarios and comment the results. When it works better than PCA ? Why ?"
      ]
    },
    {
      "cell_type": "markdown",
      "source": [
        "ICA (Independent Component Analysis) is a technique that works well when the sources of the data are statistically independent. ICA is designed to work well when the sources are non-Gaussian, but it can still work with Gaussian sources, but the performance can not be as good as when the sources are non-Gaussian."
      ],
      "metadata": {
        "id": "jP5pE74itzSu"
      }
    },
    {
      "cell_type": "code",
      "execution_count": null,
      "metadata": {
        "id": "3CwuLJyJEeDh"
      },
      "outputs": [],
      "source": [
        "## ICA\n",
        "ICA_1= FastICA(whiten=True, fun='exp', max_iter=20000, tol=0.00001, random_state=1)\n",
        "Yica_1=ICA_1.fit_transform(X_1)\n",
        "Wica_1=ICA_1.mixing_\n",
        "plotResults(X0=X0_1,X1=X1_1,y=y_1,U=Wica_1,Y=Yica_1,const=0.01,title='ICA')"
      ]
    },
    {
      "cell_type": "code",
      "source": [
        "YKpcaLec_2, AnKpcaLec_2, DKpcaLec_2, var_explainedKpca_2 = KpcaGaussianLecture(X_2,gamma)\n",
        "plotResults(X0=X0_2,X1=X1_2,y=y_2,Y=YKpcaLec_2,const=1,title='KPCA Lecture')"
      ],
      "metadata": {
        "id": "IyEZv6nDfA94"
      },
      "execution_count": null,
      "outputs": []
    },
    {
      "cell_type": "code",
      "source": [
        "YKpcaLec_3, AnKpcaLec_3, DKpcaLec_3, var_explainedKpca_3 = KpcaGaussianLecture(X_3,gamma)\n",
        "plotResults(X0=X0_3,X1=X1_3,y=y_3,Y=YKpcaLec_3,const=1,title='KPCA Lecture')"
      ],
      "metadata": {
        "id": "Cf9kOHvRfF0x"
      },
      "execution_count": null,
      "outputs": []
    },
    {
      "cell_type": "code",
      "source": [
        "YKpcaLec_4, AnKpcaLec_4, DKpcaLec_4, var_explainedKpca_4 = KpcaGaussianLecture(X_4,gamma)\n",
        "plotResults(X0=X0_4,X1=X1_4,y=y_4,Y=YKpcaLec_4,const=1,title='KPCA Lecture')"
      ],
      "metadata": {
        "id": "cq_7BNpwfJeI"
      },
      "execution_count": null,
      "outputs": []
    },
    {
      "cell_type": "markdown",
      "metadata": {
        "id": "CZ7Y2uNTEeDm"
      },
      "source": [
        "**Question:**\n",
        "1. Instead than using the scikit-learn implementation, implement one on your own !\n",
        "Complete the code where you see **XXXXXXXXXXXXXX**"
      ]
    },
    {
      "cell_type": "code",
      "execution_count": null,
      "metadata": {
        "id": "4LKyxk-0EeDn"
      },
      "outputs": [],
      "source": [
        "def FastICALecture(X,N_Iter=3000,tol=1e-5,plot_evolution=0):\n",
        "    '''\n",
        "    Inputs:\n",
        "                   X: is a [d x N] matrix. Every column is an observation\n",
        "                   and every row is a feature.\n",
        "\n",
        "                   (Optional) N_Iter: maximum number of iterations\n",
        "\n",
        "                   (Optional) delta: convergence criteria threshold\n",
        "\n",
        "                   (Optional) plot_evolution: plot evolution of error\n",
        "\n",
        "     Outputs:\n",
        "                   S: [d x N] matrix.  Each column is an independent component\n",
        "                   of the centred and whitened input data X\n",
        "\n",
        "                   W: [d x d] matrix. It is the demixing matrix. S = W*Xcw\n",
        "\n",
        "    '''\n",
        "\n",
        "    # We choose G=-exp(-1/2t^2)\n",
        "    # First derivative of G\n",
        "    def g(t):\n",
        "        res = t*np.exp((-1/2)*t**2)\n",
        "        return res\n",
        "\n",
        "    # Second derivative of G\n",
        "    def gp(t):\n",
        "        res = np.exp((-1/2)*t**2)*(1-t**2)\n",
        "        return res\n",
        "\n",
        "    # Size of X\n",
        "    d,N=X.shape\n",
        "\n",
        "    # Compute sample mean\n",
        "    mu = X.mean(axis=1, keepdims=True)\n",
        "\n",
        "    # Center data\n",
        "    Xc=X-mu\n",
        "\n",
        "    # Compute covariance matrix\n",
        "    C=np.cov(X)\n",
        "\n",
        "    # Whiten data\n",
        "    Xcw = (LA.inv(LA.sqrtm(C))) @ Xc\n",
        "\n",
        "    # check if are whitened\n",
        "    if np.sum(np.eye(d) - np.abs(np.cov(Xcw)))>1e-10:\n",
        "        raise NameError('Your whitening transformation does not work...')\n",
        "\n",
        "    # Initialize W\n",
        "    W = ortho_group.rvs(d) # random orthogonal matrix\n",
        "\n",
        "    # delta evolution\n",
        "    k = 0\n",
        "    delta = np.inf\n",
        "    evolutionDelta=[]\n",
        "\n",
        "    while delta > tol and k < N_Iter:\n",
        "\n",
        "        k = k + 1\n",
        "        W_old = np.copy(W)\n",
        "\n",
        "        Wp =  g(W_old @ Xcw) @ Xcw.T - np.diag(gp(W_old @ Xcw) @ np.ones(N)) @ W_old\n",
        "        W = LA.inv(LA.sqrtm(Wp @ Wp.T)) @ Wp\n",
        "\n",
        "        if np.sum(np.eye(d)-np.abs(np.dot(W,W.T)))>1e-10:\n",
        "            raise NameError('W should be an orthogonal matrix. Check the computations')\n",
        "\n",
        "        delta = 1-np.min(np.abs(np.diag(np.dot(W.T,W_old))))\n",
        "        evolutionDelta.append(delta)\n",
        "\n",
        "        if k==1 or k%100==0:\n",
        "            print('Iteration ICA number ', k, ' out of ', N_Iter , ', delta = ', delta)\n",
        "\n",
        "\n",
        "    if k==N_Iter:\n",
        "        print('Maximum number of iterations reached ! delta = ', delta)\n",
        "    else:\n",
        "        print('Convergence achieved ( delta = ', delta, ') in ', k, ' iterations')\n",
        "\n",
        "\n",
        "    # Independent components\n",
        "    S = W @ X\n",
        "\n",
        "\n",
        "    if plot_evolution==1:\n",
        "        plt.figure(figsize=(6, 6))\n",
        "        plt.plot(range(k),evolutionDelta,'bx--', linewidth=4, markersize=12)\n",
        "        plt.title('Evolution of error - ICA')\n",
        "        plt.show()\n",
        "\n",
        "    return S,W,Xcw\n"
      ]
    },
    {
      "cell_type": "markdown",
      "metadata": {
        "id": "Tn1VilB8EeDq"
      },
      "source": [
        "Test your own implementation"
      ]
    },
    {
      "cell_type": "code",
      "execution_count": null,
      "metadata": {
        "id": "7Vaex78wEeDr"
      },
      "outputs": [],
      "source": [
        "scenarioIndex = 3\n",
        "X0,X1,y = generate_scenario(scenario=scenarioIndex, n_samples0 = 350, n_samples1 = 350)\n",
        "X = np.concatenate((X0,X1),axis=0)\n",
        "\n",
        "SicaLec,WicaLec,Xwh = FastICALecture(X_1.T,N_Iter=3000,tol=1e-5,plot_evolution=1)\n",
        "plotResults(X0=X0,X1=X1,y=y, U=WicaLec.T, Y=SicaLec.T, const=1, title='ICA Lecture')\n"
      ]
    },
    {
      "cell_type": "markdown",
      "metadata": {
        "id": "hAahlPp8LMtR"
      },
      "source": [
        "# II - True image dataset and face recognition\n",
        "## II - 1) Dataset"
      ]
    },
    {
      "cell_type": "markdown",
      "metadata": {
        "id": "ddG5iLsMLMtR"
      },
      "source": [
        "**Goal**\n",
        "The goal of this part is to evaluate the performance of the dimensionality reduction techniques presented this morning as a preprocessing for face recognition. We divide the data-set into two parts, training and test. For every dimensionality reduction technique, you will first extract a set of basis images from your training data-set. Then, you will project the test subjects in this new basis and use the nearest neighbor algorithm to evaluate the performance of the dimensionality reduction technique.\n",
        "\n",
        "Load the original images present in the files *'YaleB\\_32x32.mat'*. This is a small part of the freely available Extended Yale Face Database B downloaded from http://www.cad.zju.edu.cn/home/dengcai/Data/FaceData.html. It contains 2414 cropped images resized to 32x32 pixels. Every image is represented as a vector 1x1024 and all images are stacked in a matrix called data. There are 38 subjects with around 64 near frontal images per individual under different illumination conditions. Once loaded and normalised the data, such that the pixels are between 0 and 1, you can plot images using the function *'imshow'*.\n",
        "\n",
        "Let's load the data."
      ]
    },
    {
      "cell_type": "code",
      "execution_count": null,
      "metadata": {
        "id": "B61Jlo1ZLMtS"
      },
      "outputs": [],
      "source": [
        "if 'google.colab' in str(get_ipython()):\n",
        "  from google_drive_downloader import GoogleDriveDownloader as gdd\n",
        "  gdd.download_file_from_google_drive(file_id='1rgICXtcIAgDqSoHnNXNZMD_iNABF3RZA',\n",
        "  dest_path='./YaleB_32x32.mat')\n",
        "else:\n",
        "  print('You are not using Colab. Please define working_dir with the absolute path to the folder where you downloaded the data')\n",
        "\n",
        "# Please modify working_dir only if you are using your Anaconda (and not Google Colab)\n",
        "Working_directory=\"/content/drive/MyDrive/IMA/IMA205/YaleB_32x32.mat\""
      ]
    },
    {
      "cell_type": "markdown",
      "metadata": {
        "id": "TnV5hnWbLMtS"
      },
      "source": [
        "Below is a useful function to plot the basis images. Be careful, each row of data is a basis image."
      ]
    },
    {
      "cell_type": "code",
      "execution_count": null,
      "metadata": {
        "id": "2EFDkjkfLMtT"
      },
      "outputs": [],
      "source": [
        "def plotFaces(data,r,c,ncol=2,N=0,indeces=None,title=None):\n",
        "    # data: each face is a row in data\n",
        "    # r,c = number of rows and columns of each image\n",
        "    # n_col = number of columns for subplots\n",
        "    # N = random images to plot (used only if indeces is empty)\n",
        "    # indeces = indeces of images to plot\n",
        "    # title = title of the plot\n",
        "\n",
        "\n",
        "    if indeces is None:\n",
        "        if N==0:\n",
        "            raise NameError('You should define either N or indeces')\n",
        "        else:\n",
        "            print('Use N random subjects')\n",
        "            indeces=np.random.randint(0,data.shape[0],(N,1))\n",
        "\n",
        "    nrow=math.ceil(len(indeces)/ncol)\n",
        "\n",
        "    fig=plt.figure(figsize=(17, 6))\n",
        "    plt.suptitle(title, size=16)\n",
        "    for i, index in enumerate(indeces):\n",
        "        fig.add_subplot(nrow, ncol, i+1)\n",
        "        plt.imshow(np.resize(data[index,:],(r,c)).T,origin='upper',cmap='gray')\n",
        "        plt.xticks(())\n",
        "        plt.yticks(())\n",
        ""
      ]
    },
    {
      "cell_type": "markdown",
      "metadata": {
        "id": "ye4NcH5yLMtT"
      },
      "source": [
        "Let's load the data and compute some parameters."
      ]
    },
    {
      "cell_type": "code",
      "execution_count": null,
      "metadata": {
        "id": "dLaz0M6ULMtT"
      },
      "outputs": [],
      "source": [
        "x = loadmat(Working_directory)\n",
        "data=x['fea']\n",
        "d=data.shape[1] # number of pixels of the images\n",
        "subjectIndex=x['gnd'] # we have one index per subject\n",
        "maxValue = np.max(np.max(data)) # max intensity value\n",
        "data = data/maxValue; # Scale pixels to [0,1]\n",
        "\n",
        "Ns=len(np.unique(subjectIndex)); # Number subjects\n",
        "Is=round(len(subjectIndex)/Ns) # Number images per subject (on average, not the same number for every subject)\n",
        "r=int(np.sqrt(d)) # number rows of each image\n",
        "c=r # number columns of each image, equal to row since images are square\n",
        "\n",
        "print('There are', data.shape[0], 'facial images and each image has', d, 'pixels' )\n",
        "print('There are', Ns, 'different subjects and each subject has on average', Is, 'images')"
      ]
    },
    {
      "cell_type": "markdown",
      "metadata": {
        "id": "zvlNGFRgLMtT"
      },
      "source": [
        "Let's plot first 10 images of different subjects and then 10 images of the same subject but with different positions and illumination conditions"
      ]
    },
    {
      "cell_type": "code",
      "execution_count": null,
      "metadata": {
        "id": "zlWjXNznLMtT"
      },
      "outputs": [],
      "source": [
        "# Plot data\n",
        "indexDifferent=np.arange(1,Is*40,Is)\n",
        "plotFaces(data,r,c,ncol=3,indeces=indexDifferent[0:10],title='Different subjects')\n",
        "indexSame=np.arange(0,10,1)\n",
        "plotFaces(data,r,c,ncol=2,indeces=indexSame,title='Different positions of the same subjects')\n"
      ]
    },
    {
      "cell_type": "markdown",
      "metadata": {
        "id": "CjXqjVuhLMtT"
      },
      "source": [
        "We can now move to evaluate the  performance of the dimensionality reduction techniques presented this morning for face recognition. We first divide the data-set into two parts, training (80%) and test (20%) in a stratified way (subjects are divided in a balanced way between the two parts).\n",
        "\n",
        "We will see in the next lecture why we need to divide into training and test sets. For now, just know that we will use the first set to train our algorithm and the second set to test the performance of our algorithm on new, unseen data.\n",
        "\n"
      ]
    },
    {
      "cell_type": "code",
      "execution_count": null,
      "metadata": {
        "id": "DAVBc8PMLMtT"
      },
      "outputs": [],
      "source": [
        "Xtrain, Xtest, Id_Train, Id_Test = train_test_split(data,subjectIndex,test_size=0.20,stratify=subjectIndex, random_state=44)\n",
        "Xctest=Xtest - np.mean(Xtest) # centering\n",
        "Xctrain=Xtrain - np.mean(Xtrain) # centering"
      ]
    },
    {
      "cell_type": "markdown",
      "metadata": {
        "id": "6_kUUYL0LMtT"
      },
      "source": [
        "As first idea, we could simply use the pixel intensities as features for the classification. This is basically like using the original data, without dimensionality reducton techniques.\n",
        "In the following, we will use the nearest-neighboor algorithm to perform the classification task. For each test sample, the nearest neighbor algorithm simply looks for the closest training sample and then assigns the same label (i.e. index of subject)."
      ]
    },
    {
      "cell_type": "code",
      "execution_count": null,
      "metadata": {
        "id": "G5kJ1_6ZLMtU"
      },
      "outputs": [],
      "source": [
        "## Use the pixel intensities to find the correct subject for the test images\n",
        "NN=KNeighborsClassifier(n_neighbors=1)\n",
        "NN.fit(Xctrain,Id_Train.ravel())\n",
        "print('By using the pixel intensities, we use ', Xctrain.shape[1], ' features')\n",
        "print('Percentage of correct answer using the pixel intensities is ', NN.score(Xctest,Id_Test))\n",
        "\n"
      ]
    },
    {
      "cell_type": "markdown",
      "metadata": {
        "id": "MSnJ0X0KLMtU"
      },
      "source": [
        "# II - 2) PCA\n",
        "**Preliminary part:** We can use PCA to investigate the main variations within the data.\n",
        "\n",
        "**Question:**\n",
        "1. How many modes do you need to explain at least 80% of the variability in the data ?\n",
        "2. Look at the three main modes and explain which are the main variations in the data."
      ]
    },
    {
      "cell_type": "markdown",
      "source": [
        "1. As it is possible to observe below, aproximately 6 modes are sufficient to explain 80% of the data variability.\n",
        "\n",
        "2.\n",
        "The first mode explains vertical light variation, the second mode explains horizontal light variation, and the third mode explains contrast variation."
      ],
      "metadata": {
        "id": "q2P31UlGvMCa"
      }
    },
    {
      "cell_type": "code",
      "execution_count": null,
      "metadata": {
        "id": "cX6ig1lyLMtU"
      },
      "outputs": [],
      "source": [
        "# Linear interpolation along the first two modes\n",
        "Xm=data.mean(axis=0) # average face\n",
        "YpcaTrain,UpcaTrain,DpcaTrain,var_explained_pca=pcaLecture(data)\n",
        "indices=np.linspace(-3, 3, num=7, dtype=np.int16) # Interpolation indices\n",
        "\n",
        "# Variance explained by each eigenvector\n",
        "fig=plt.figure(figsize=(7, 7))\n",
        "ax=plt.subplot(111)\n",
        "ax.set_xlim(0, 9)\n",
        "dim=np.arange(0,10,1)\n",
        "sum = []\n",
        "for i in range(np.array(var_explained_pca).shape[0]):\n",
        "   sum.append(np.sum(var_explained_pca[:i])*100)\n",
        "plt.plot(sum)\n",
        "plt.xticks(dim)\n",
        "plt.xlabel('Number of eigenvectors',fontsize=15)\n",
        "plt.ylabel('% variance explained',fontsize=15)\n",
        "plt.title('Variance explained by PCA modes',fontsize=17)\n",
        "\n",
        "## First mode\n",
        "fig=plt.figure(figsize=(17, 3))\n",
        "plt.suptitle('Variations along the first mode of PCA', size=20)\n",
        "for i, index in enumerate(indices):\n",
        "  image = Xm + np.sqrt( DpcaTrain[0])  *UpcaTrain[:,0]* index\n",
        "  fig.add_subplot(1, len(indices), i+1)\n",
        "  plt.imshow(np.resize(image,(r,c)).T,origin='upper',cmap='gray')\n",
        "  if index != 0:\n",
        "    plt.xlabel(r'%i $\\sigma$' %index, fontsize=15)\n",
        "  else:\n",
        "    plt.xlabel('Average face', fontsize=15)\n",
        "  plt.xticks(())\n",
        "  plt.yticks(())\n",
        "  plt.subplots_adjust(left=0.01, bottom=0.05, right=0.99, top=0.93, wspace=0.04, hspace=0.0)\n",
        "\n",
        "\n",
        "## Second mode\n",
        "fig=plt.figure(figsize=(17, 3))\n",
        "plt.suptitle('Variations along the second mode of PCA', size=20)\n",
        "for i, index in enumerate(indices):\n",
        "  image = Xm + np.sqrt( DpcaTrain[1])  *UpcaTrain[:,1]* index\n",
        "  fig.add_subplot(1, len(indices), i+1)\n",
        "  plt.imshow(np.resize(image,(r,c)).T,origin='upper',cmap='gray')\n",
        "  if index != 0:\n",
        "    plt.xlabel(r'%i $\\sigma$' %index, fontsize=15)\n",
        "  else:\n",
        "    plt.xlabel('Average face', fontsize=15)\n",
        "  plt.xticks(())\n",
        "  plt.yticks(())\n",
        "  plt.subplots_adjust(left=0.01, bottom=0.05, right=0.99, top=0.93, wspace=0.04, hspace=0.0)\n",
        "\n",
        "## Third mode\n",
        "fig=plt.figure(figsize=(17, 3))\n",
        "plt.suptitle('Variations along the third mode of PCA', size=20)\n",
        "for i, index in enumerate(indices):\n",
        "  image = Xm + np.sqrt( DpcaTrain[2])  *UpcaTrain[:,2]* index\n",
        "  fig.add_subplot(1, len(indices), i+1)\n",
        "  plt.imshow(np.resize(image,(r,c)).T,origin='upper',cmap='gray')\n",
        "  if index != 0:\n",
        "    plt.xlabel(r'%i $\\sigma$' %index, fontsize=15)\n",
        "  else:\n",
        "    plt.xlabel('Average face', fontsize=15)\n",
        "  plt.xticks(())\n",
        "  plt.yticks(())\n",
        "  plt.subplots_adjust(left=0.01, bottom=0.05, right=0.99, top=0.93, wspace=0.04, hspace=0.0)"
      ]
    },
    {
      "cell_type": "markdown",
      "metadata": {
        "id": "styJ6m2JLMtU"
      },
      "source": [
        "**PCA as a preprocessing for classification:**\n",
        "\n",
        "Now, we can employ PCA as a preprocessing step before classification. You will first extract a set of basis images from your training data-set. Then, you will project the test subjects in this new basis and use the nearest neighbor algorithm to evaluate the performance of the dimensionality reduction technique.\n",
        "\n",
        "\n"
      ]
    },
    {
      "cell_type": "markdown",
      "metadata": {
        "id": "CfSsWtYgLMtU"
      },
      "source": [
        "Precisely, using PCA, compute the scores $Y_{train}$, eigenvectors $U_{train}$ and eigenvalues $D_{train}$ of the training set. The eigenvectors $U_{train}$ represent the basis images and they are usually called *'Eigenfaces'*. Then, project both training and test data onto the eigenvectors that explain 99$\\%$ of the variability of the training set $L_{train}^{99}$. You will obtain two vectors of scores, $Y_{train}^{99}=X_{train} L_{train}^{99}$ and $Y_{test}^{99}=X_{test} L_{test}^{99}$, which you will use for evaluating the performance of the algorithm. Use the function `KNeighborsClassifier` to test the performance.\n",
        "\n",
        "**Practical Questions:**\n",
        "\n",
        "1. Use the scikit-learn implementation to test the performance, as previously explained. Furthermore, please comment the eigenfaces. Do they seem \"real\" ?\n",
        "\n",
        "**Theoretical Questions:**\n",
        "\n",
        "1. In your opinion, why do we need to center the data before computing a PCA ? If you want, you can use the previous toy examples to answer this question.\n",
        "2. Let $X$ be the original data, a matrix $\\left[ N,d \\right]$, and $Y$ the scores of a PCA keeping all eigenvectors, which means that $Y$ is also a matrix $\\left[ N,d \\right]$. Are $X$ and $Y$ equal ? If not, why ? What would you use (generally speaking) in a machine learning problem ? Why ?\n",
        "3. Let $x_p$ and $x_q$ be two row-vectors representing two images, $U$ an *orthogonal* matrix whose columns are the eigenvectors of $X$ and $y_p=x_pU$, $y_q=x_qU$, check that $x_px_q^T=y_py_q^T$. This shows that $Y=XU$ is a linear transformation that preserves inner products.\n",
        "4. Let $C$ be the covariance matrix of $X$ and $C=UDU^T$ its eigen decomposition. Show that the covariance matrix of $Y=XU$ is $D$."
      ]
    },
    {
      "cell_type": "markdown",
      "source": [
        "1. Centering the data before performing Principal Component Analysis (PCA) is important because PCA is a technique that identifies the directions of maximum variance in the data. If the data is not centered, then the origin of the coordinate system would not coincide with the center of the data. As a result, the directions of maximum variance would be affected by the position of the origin, which is not a meaningful property of the data.\n",
        "\n",
        "2. X and Y are not equal. The scores in Y are obtained by projecting the data onto the eigenvectors, which represent the directions of maximum variance in the data, so the columns of Y are linear combinations of the columns of X, weighted by the eigenvectors.\n",
        "\n",
        "  In general, in a machine learning problem, we would use Y (the scores obtained from performing PCA) rather than X (the original data) for further analysis or modeling. This is because Y captures the most significant sources of variation in the data, and reduces the dimensionality of the problem by providing a lower-dimensional representation of the data that can be more easily analyzed or modeled.\n",
        "\n",
        "3.\n",
        "\n",
        "  $y_py_q^T = x_pU(y_q)^T = x_pU(x_qU)^T= x_pUU^Tx_q^T$  \n",
        "   $U$ is an orthogonal matrix, so $UU^T = I$.\n",
        "   So $y_py_q^T = x_pU(x_qU)^T= x_pUU^Tx_q^T = x_pIy_q^T = x_px_q^T$\n",
        "\n",
        "4. $C_x = X^TX$.  \n",
        "   $C_y = Y^TY = (XU)^T(XU) = U^TX^TXU = U^TC_xU = U^T(UDU^T)U = D$"
      ],
      "metadata": {
        "id": "y9QFTxsKw92O"
      }
    },
    {
      "cell_type": "code",
      "execution_count": null,
      "metadata": {
        "id": "1837jhzGLMtU"
      },
      "outputs": [],
      "source": [
        "## PCA (scikit-learn implementation)\n",
        "## PCA\n",
        "pca = PCA(random_state=1) # by fixing the random_state we are sure that results are always the same\n",
        "Y_train=pca.fit_transform(Xtrain)\n",
        "U_train=pca.components_.T # we want PC on columns\n",
        "D_train = (pca.singular_values_)**2/(X_1.shape[0]-1) # computation of the eigenvalues\n",
        "\n",
        "\n",
        "# Threshold defined as 99% of the variability\n",
        "PCAComp = 0\n",
        "while (np.sum(pca.explained_variance_ratio_[:PCAComp]) < 0.99):\n",
        "  PCAComp += 1\n",
        "\n",
        "print('PCA uses ', PCAComp, ' features')\n",
        "\n",
        "# Selection of the eigenvectors\n",
        "U_99 = U_train[:,:PCAComp]\n",
        "\n",
        "# Computation of the test scores using the eigenvectors computed with the\n",
        "# training data-set\n",
        "Y_test99 = Xctest @ U_99\n",
        "\n",
        "# Plot the Eigenfaces\n",
        "plotFaces(U_99.T,r,c,ncol=2,indeces=np.arange(0,10,1),title='PCA - Eigenfaces')\n",
        "\n",
        "# Score: apply the nearest-neighboor algorithm to PCA output\n",
        "NN.fit(Y_train,Id_Train.ravel())\n",
        "Yr_test_PCA = Xctest @ U_train\n",
        "print('Percentage of correct answer using PCA is ', NN.score(Yr_test_PCA,Id_Test))\n",
        "\n"
      ]
    },
    {
      "cell_type": "markdown",
      "metadata": {
        "id": "vizxI1jhLMtV"
      },
      "source": [
        "**KPCA**\n",
        "\n",
        "In this section, we are going to do exactly the same procedure as before but using Kernel-PCA with a Gaussian kernel. Remember that we need to compute and center the test kernel matrix $[\\mathbf{\\tilde{K}}]_{ij}=<\\phi(x_i)-\\frac{1}{N} \\sum_{s=1}^N \\phi(x_s),\\phi(x_j)-\\frac{1}{N} \\sum_{s=1}^N \\phi(x_s)>$ and that, once computed the basis vectors in the training set $\\{  \\mathbf{\\alpha}_i \\}$, we can compute the score for a test sample $t$ using the following equation:\n",
        "\n",
        "$y_i(t) = \\sum_{j=1}^N a_{ij} <\\phi(t)-\\frac{1}{N} \\sum_{s=1}^N \\phi(x_s),\\phi(x_j)-\\frac{1}{N} \\sum_{s=1}^N \\phi(x_s)> = \\sum_{j=1}^N a_{ij} \\tilde{k}(t,x_j)$\n",
        "\n",
        "Answer the following questions:\n",
        "\n",
        "**Questions:**\n",
        "\n",
        "1.  Use the scikit-learn implementation to test the performance\n",
        "2. Look for the best gamma value\n",
        "3. Why the basis vectors $\\{  \\mathbf{\\alpha}_i \\}$ are not plotted as in PCA ?\n",
        "4. Is it worth it, in your opinion, to compute PCA and/or KPCA ? Why not using the original pixel intensities ? Please consider the following aspects in your answer: performance, computational time, number of features, and interpretability of the results.\n",
        "5. (Optional) Create a new function `Kpca_poly_lecture` where you change the kernel to $k(x,y)=<x,y>^d$. Evaluate the performance of this new kernel.\n",
        "\n"
      ]
    },
    {
      "cell_type": "markdown",
      "source": [
        "2. The best value for gamma is around 5.8.\n",
        "\n",
        "3. In this case the basis vector is the eigenvector of the projected data in a higher dimensional space.\n",
        "\n",
        "4.\n",
        "  Using the original pixel intensities can be very costly, making difficult to analyze the data and extract meaningful information.\n",
        "  \n",
        "  It depends of the data. With a dataset with a few features, for example, applying PCA and KPCA can result in some loss of information, because it involves a considerable reduction in the number of features. On the other hand, depending on the dataset the reduction of the features is desirable. In these cases, PCA and KPCA can reduce the dimensionality of the data and identifying the most important sources of variation. By reducing the number of features, the risk of overfitting is reduced and the accuracy of the model is improved.\n",
        "  \n"
      ],
      "metadata": {
        "id": "FFd7nEqxytYd"
      }
    },
    {
      "cell_type": "code",
      "execution_count": null,
      "metadata": {
        "id": "EdbuhQD8LMtV"
      },
      "outputs": [],
      "source": [
        "# Kernel-PCA (scikit-learn implementation)\n",
        "## choose a gamma value\n",
        "gamma=5.8\n",
        "#\n",
        "# Apply K-PCA\n",
        "\n",
        "Kpca = KernelPCA(kernel='rbf', gamma=gamma, random_state=1)\n",
        "YKpca=Kpca.fit_transform(Xctrain)\n",
        "DKpca=Kpca.lambdas_\n",
        "AKpca=Kpca.alphas_\n",
        "\n",
        "\n",
        "# variance explained\n",
        "tot=np.sum(DKpca)\n",
        "var_explained = []\n",
        "for i in DKpca:\n",
        "    var_explained.append(i/tot)\n",
        "# Threshold defined as 99% of the variability\n",
        "KPCAComp = 0\n",
        "while (np.sum(var_explained[:KPCAComp]) < 0.99):\n",
        "    KPCAComp += 1\n",
        "\n",
        "# Selection of the eigenvectors\n",
        "U_99 = AKpca[:,:KPCAComp]\n",
        "Yr_train_KPCA = YKpca[:,0:KPCAComp]\n",
        "\n",
        "# Construction matrix K for test\n",
        "N = Xctrain.shape[0]\n",
        "M = Xctest.shape[0]\n",
        "InnerX = np.dot(Xctest,Xctrain.T)\n",
        "tempTrain=np.sum(Xctrain**2,axis=1).reshape((1,N))\n",
        "tempTest=np.sum(Xctest**2,axis=1).reshape((M,1))\n",
        "NormTrain2 = np.repeat(tempTrain,M,axis=0)\n",
        "NormTest2 = np.repeat(tempTest,N,axis=1)\n",
        "Norm = NormTest2+NormTrain2-2*InnerX\n",
        "Norm[Norm<1e-10]=0\n",
        "Ktest=np.exp(-Norm/(2*gamma**2))\n",
        "\n",
        "# Centering kernel test matrix\n",
        "oneN=np.ones((N,N))/N\n",
        "oneM=np.ones((M,M))/M\n",
        "KcTest= Ktest - oneM @ Ktest - Ktest @ oneN + oneM @ Ktest @ oneN # center kernel matrix\n",
        "\n",
        "# Computation of the test scores using the eigenvectors computed with the training data-set\n",
        "N= Xctest.shape[0]\n",
        "Yr_test_KPCA=np.zeros((N,KPCAComp))\n",
        "#Yr_test_KPCA=np.zeros((Xctest.shape[0],Kpca))\n",
        "for l in range(KPCAComp):\n",
        "    for i in range(Xctest.shape[0]):\n",
        "        Yr_test_KPCA[:,l] += AKpca[i,l] * KcTest[:,i]\n",
        "\n",
        "print('KPCA uses ', Yr_train_KPCA.shape[0], ' features')\n",
        "\n",
        "\n",
        "# Score\n",
        "NN.fit(Yr_train_KPCA,Id_Train.ravel())\n",
        "print('Percentage of correct answer using KPCA is ', NN.score(Yr_test_KPCA,Id_Test.ravel()))\n",
        "\n"
      ]
    },
    {
      "cell_type": "markdown",
      "metadata": {
        "id": "vhYS22bcLMtV"
      },
      "source": [
        "# II - 3) ICA\n",
        "\n",
        "In the next section you will evaluate ICA. Every image $x_i$ can be seen as a linear combination of basis images. ICA can be used in two different ways for face recognition. We can look for a set of statistically independent basis images $s_j$ (first architecture) or for a set of statistically independent coefficients $a_{j}$ (second architecture).\n",
        "\n",
        "In the first architecture, we compute $X'=A'S'$, where every row of $X'$ is an image and the columns are pixels. Images are considered as random variables and we look for a set of statistically independent basis images contained in the rows of $S'$.\n",
        "\n",
        "In the second architecture, we transpose the previous setting computing $X''=A''S''$, where every column of $X''$ is an image and rows are pixels. In this case, we consider the pixels as random variables and we look for a set of statistically independent coefficients contained in the rows of $S$ and a set of basis images in the columns of $A$.\n",
        "\n",
        "Instead than using the original training data $X$ as input matrix, we are going to use the eigenvectors (first architecture) or the scores (second architecture) computed with PCA, namely $Y=XL$ (same notation as in the slides of the lecture). In this way, we reduce the computational time since the number of eigenvectors that account for 99\\% of the variance of the training images (columns of $L$) is definitely lower than the number of pixels (columns of $X$). If you want, you can of course use the original data but it will take much more time to converge.\n",
        "\n",
        "For the first architecture we will use $L^T$ as input matrix. In fact, we can notice that the PCA approximation of the matrix $X_{train}$, containing an image in every row, can be written as $\\tilde{X} = YL^T$. If we use $L^T$ as input in the ICA algorithm we obtain $L^T=AS$, thus it follows that $\\tilde{X}=YW^TS$ (since $A=W^{-1}=W^T$). The basis images are contained in the rows of $S$ and the coefficients used for evaluating the performance are instead contained in the rows of $Y_{train}W^T$ for the training set and in $Y_{test}W^T$ for the test set.\n",
        "\n",
        "For the second architecture, we will instead use $Y^T$ as input matrix thus obtaining $Y^T=AS$. Remember that in the second architecture we want to apply the ICA algorithm to the transpose of $X_{train}$, namely $X^T=AS$. We can notice that, given the PCA transformation $Y=XL$, one can write $X \\approx YL^T$ which entails $X^T \\approx LY^T=LAS=LW^TS$. The columns of $LW^T$ contain the basis images whereas the columns of $S$ contain the statistically independent coefficients used to test the performance of the algorithm. The coefficients for the test set are in the columns of $S_{test}=W_{train}Y_{test}^T$.\n",
        "\n",
        "NB: Here we used $X=X_c$ which means centered face images\n",
        "\n",
        "**Questions:**\n",
        "\n",
        "1. Use the scikit-learn implementation to test the performance of the two architectures\n",
        "2. Look at the results of the two architecures. Which one is better ?\n",
        "3. Looking at the basis images, in which case do they seem more 'real' ?\n",
        "\n"
      ]
    },
    {
      "cell_type": "markdown",
      "source": [
        "2. It is clear to observe that the second architecture presents best results compared to the first one.\n",
        "\n",
        "3. In the second case, again."
      ],
      "metadata": {
        "id": "RSyIb3tb2TW0"
      }
    },
    {
      "cell_type": "code",
      "execution_count": null,
      "metadata": {
        "id": "BLJhne_ILMtV"
      },
      "outputs": [],
      "source": [
        "#first architecture (scikit-learn implementation)\n",
        "# First apply PCA as a preprocessing for ICA\n",
        "pca = PCA(random_state=1) # by fixing the random_state we are sure that results are always the same\n",
        "Y_train=pca.fit_transform(Xtrain)\n",
        "U_train=pca.components_.T # we want PC on columns\n",
        "D_train = (pca.singular_values_)**2/(X_1.shape[0]-1) # computation of the eigenvalues\n",
        "\n",
        "# We use the PCA projection to speed up results\n",
        "# Threshold defined as 99% of the variability\n",
        "PCAComp = 0\n",
        "while (np.sum(pca.explained_variance_ratio_[:PCAComp]) < 0.99):\n",
        "    PCAComp += 1\n",
        "\n",
        "print('PCA uses ', PCAComp, ' features')\n",
        "\n",
        "# Selection of the eigenvectors\n",
        "U_99 = U_train[:,:PCAComp]\n",
        "Y_train99 = Xctrain @ U_99\n",
        "# Apply ICA\n",
        "transformer = FastICA(whiten=True, fun='exp', max_iter=20000, tol=0.00001, random_state=1)\n",
        "S_1 = transformer.fit_transform(U_99).T # bacis image\n",
        "W_1 = transformer.components_\n",
        "W_trainica = Y_train99 @ W_1.T\n",
        "W_testica = Y_test99 @ W_1.T\n",
        "Y_test_ICA= W_testica @ S_1\n",
        "Y_train_ICA = W_trainica @ S_1\n",
        "\n",
        "print('ICA uses ', Y_train_ICA.shape[1], ' features')\n",
        "\n",
        "# Plot the Eigenfaces\n",
        "plotFaces(S_1,r,c,ncol=2,indeces=np.arange(0,10,1),title='ICA - first architecture')\n",
        "\n",
        "# Score\n",
        "NN.fit(Y_train_ICA,Id_Train.ravel())\n",
        "print('Percentage of correct answer using ICA arch.1 is ', NN.score(Y_test_ICA,Id_Test.ravel()))\n"
      ]
    },
    {
      "cell_type": "code",
      "execution_count": null,
      "metadata": {
        "id": "og6lhTnnLMtW"
      },
      "outputs": [],
      "source": [
        "# Second architecture (scikit-learn implementation)\n",
        "# To be done\n",
        "# First apply PCA as a preprocessing for ICA\n",
        "pca = PCA(random_state=1) # by fixing the random_state we are sure that results are always the same\n",
        "Y_train=pca.fit_transform(Xtrain)\n",
        "U_train=pca.components_.T # we want PC on columns\n",
        "D_train = (pca.singular_values_)**2/(X_1.shape[0]-1) # computation of the eigenvalues\n",
        "\n",
        "# We use the PCA projection to speed up results\n",
        "# Threshold defined as 99% of the variability\n",
        "PCAComp = 0\n",
        "while (np.sum(pca.explained_variance_ratio_[:PCAComp]) < 0.99):\n",
        "    PCAComp += 1\n",
        "\n",
        "print('PCA uses ', PCAComp, ' features')\n",
        "\n",
        "# Selection of the eigenvectors\n",
        "U_99 = U_train[:,0:PCAComp]\n",
        "Y_train99 = Xctrain @ U_99\n",
        "Y_test99 = Xctest @ U_99\n",
        "# Apply ICA\n",
        "\n",
        "ICA= FastICA(whiten=True, fun='exp', max_iter=20000, tol=0.00001, random_state=1)\n",
        "S_2=ICA.fit_transform(Y_train99).T\n",
        "W_2=ICA.components_\n",
        "\n",
        "Y_test_ICA=  ((U_99 @ W_2.T) @ (W_2 @ Y_test99.T))\n",
        "Y_train_ICA = ((U_99 @ W_2.T) @ (W_2 @ Y_train99.T))\n",
        "print('ICA uses ', Y_train_ICA.shape[1], ' features')\n",
        "\n",
        "# Plot the Eigenfaces\n",
        "plotFaces((U_99 @ W_2.T).T,r,c,ncol=2,indeces=np.arange(0,10,1),title='ICA - first architecture')\n",
        "\n",
        "# Score\n",
        "NN.fit(Y_train_ICA.T,Id_Train.ravel())\n",
        "print('Percentage of correct answer using ICA arch.2 is ', NN.score(Y_test_ICA.T,Id_Test.ravel()))"
      ]
    }
  ],
  "metadata": {
    "colab": {
      "provenance": []
    },
    "kernelspec": {
      "display_name": "Python 3",
      "language": "python",
      "name": "python3"
    },
    "language_info": {
      "codemirror_mode": {
        "name": "ipython",
        "version": 3
      },
      "file_extension": ".py",
      "mimetype": "text/x-python",
      "name": "python",
      "nbconvert_exporter": "python",
      "pygments_lexer": "ipython3",
      "version": "3.8.5"
    }
  },
  "nbformat": 4,
  "nbformat_minor": 0
}